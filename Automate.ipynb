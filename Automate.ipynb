{
 "cells": [
  {
   "cell_type": "code",
   "execution_count": 1,
   "id": "8504b7a6",
   "metadata": {},
   "outputs": [],
   "source": [
    "import win32com.client as win32"
   ]
  },
  {
   "cell_type": "code",
   "execution_count": 2,
   "id": "188d4308",
   "metadata": {},
   "outputs": [],
   "source": [
    "olApp =win32.Dispatch('Outlook.Application')\n",
    "olNS =olApp.GetNameSpace('MAPI')"
   ]
  },
  {
   "cell_type": "code",
   "execution_count": 3,
   "id": "a8bfb8cf",
   "metadata": {},
   "outputs": [],
   "source": [
    "mail_item = olApp.CreateItem(0)\n",
    "\n",
    "mail_item.Subject =\"Testing\"\n",
    "mail_item.BodyFormat =1\n",
    "\n",
    "mail_item.Body =\"Hello this mail is for testing\"\n",
    "mail_item.Sender =\"enter your mail-id\"\n",
    "mail_item.To = \"enter the reciver mail-id\"\n",
    "\n",
    "mail_item.Display()\n",
    "mail_item.Save()\n",
    "mail_item.Send()"
   ]
  },
  {
   "cell_type": "code",
   "execution_count": null,
   "id": "3478fd19",
   "metadata": {},
   "outputs": [],
   "source": []
  }
 ],
 "metadata": {
  "kernelspec": {
   "display_name": "Python 3 (ipykernel)",
   "language": "python",
   "name": "python3"
  },
  "language_info": {
   "codemirror_mode": {
    "name": "ipython",
    "version": 3
   },
   "file_extension": ".py",
   "mimetype": "text/x-python",
   "name": "python",
   "nbconvert_exporter": "python",
   "pygments_lexer": "ipython3",
   "version": "3.10.9"
  }
 },
 "nbformat": 4,
 "nbformat_minor": 5
}
